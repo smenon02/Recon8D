{
  "nbformat": 4,
  "nbformat_minor": 0,
  "metadata": {
    "colab": {
      "provenance": []
    },
    "kernelspec": {
      "name": "python3",
      "display_name": "Python 3"
    },
    "language_info": {
      "name": "python"
    }
  },
  "cells": [
    {
      "cell_type": "markdown",
      "source": [
        "This sample code is used to check if top features found in feature importance analyses are found in the RECON 3D gene set"
      ],
      "metadata": {
        "id": "VCtuqwwC_Nh8"
      }
    },
    {
      "cell_type": "code",
      "execution_count": null,
      "metadata": {
        "id": "DHH4W862-38q"
      },
      "outputs": [],
      "source": [
        "# Read in list of genes involved in associated reactions, top features, and matching BIGG IDs\n",
        "recon_neighbors = pd.read_csv('./genes_from_recon3d.csv')\n",
        "model_top_feat = pd.read_csv('./top_features_from_model.csv')\n",
        "names = pd.read_csv('./biggIDs_for_matching.csv')\n",
        "\n",
        "# Change feature names to BIGG IDs\n",
        "model_top_feat_new = []\n",
        "for i in range(0,136):\n",
        "    if sum(names.iloc[:,1] == model_top_feat.iloc[i,0])>0:\n",
        "      model_top_feat_new.append(names.loc[names['Unnamed: 1']==model_top_feat.iloc[i,0]].iloc[0,0])\n",
        "    else:\n",
        "      model_top_feat_new.append(model_top_feat.iloc[i,0])\n",
        "# Determine which metabolite models that map to Recon3D reactions\n",
        "present = []\n",
        "for i in range(0,len(model_top_feat_new)):\n",
        "  if sum(recon_neighbors.iloc[i,:] == model_top_feat_new[i])>0:\n",
        "    present.append(\"TRUE\")\n",
        "  else:\n",
        "    present.append(\"FALSE\")\n",
        "# Get total number of overlaps\n",
        "word_count = {}\n",
        "for word in present:\n",
        "    word_count[word] = word_count.get(word,0) + 1\n",
        "print(word_count)"
      ]
    }
  ]
}